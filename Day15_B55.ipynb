{
 "cells": [
  {
   "cell_type": "code",
   "execution_count": null,
   "id": "ce402e89",
   "metadata": {},
   "outputs": [],
   "source": [
    "Python Classes:\n",
    "class:\n",
    "methods:\n",
    "objects:\n",
    "attributes:\n",
    "self\n",
    "object"
   ]
  },
  {
   "cell_type": "code",
   "execution_count": null,
   "id": "7ee20081",
   "metadata": {},
   "outputs": [],
   "source": [
    "class: it is high level blue print on the program\n",
    "    class is the keyword for defining the class\n",
    "    "
   ]
  },
  {
   "cell_type": "code",
   "execution_count": null,
   "id": "c94248fc",
   "metadata": {},
   "outputs": [],
   "source": [
    "method: written inside the class "
   ]
  },
  {
   "cell_type": "code",
   "execution_count": null,
   "id": "81a7d5df",
   "metadata": {},
   "outputs": [],
   "source": [
    "attribute: a variable is written inside the class "
   ]
  },
  {
   "cell_type": "code",
   "execution_count": null,
   "id": "3ac54e4e",
   "metadata": {},
   "outputs": [],
   "source": [
    "self: self is a temp placeholder for an object"
   ]
  },
  {
   "cell_type": "code",
   "execution_count": null,
   "id": "845e4a18",
   "metadata": {},
   "outputs": [],
   "source": [
    "object: it is an entry/class point to the class methods."
   ]
  },
  {
   "cell_type": "code",
   "execution_count": null,
   "id": "157d32e3",
   "metadata": {},
   "outputs": [],
   "source": []
  },
  {
   "cell_type": "code",
   "execution_count": 1,
   "id": "47ff1436",
   "metadata": {},
   "outputs": [],
   "source": [
    "class  customerdetails(): #class\n",
    "    def createname(username): #method\n",
    "        self.username=username\n",
    "        \n",
    "    def displayname(): #method\n",
    "        print(self.username)\n",
    "        \n",
    "    def greetname(): #method\n",
    "        print (f\" Hello, {self.username}\")"
   ]
  },
  {
   "cell_type": "code",
   "execution_count": 2,
   "id": "1d629458",
   "metadata": {},
   "outputs": [],
   "source": [
    "test = customerdetails() # assigning an object to the class"
   ]
  },
  {
   "cell_type": "code",
   "execution_count": 3,
   "id": "6da9252b",
   "metadata": {},
   "outputs": [
    {
     "ename": "TypeError",
     "evalue": "createname() takes 1 positional argument but 2 were given",
     "output_type": "error",
     "traceback": [
      "\u001b[0;31m---------------------------------------------------------------------------\u001b[0m",
      "\u001b[0;31mTypeError\u001b[0m                                 Traceback (most recent call last)",
      "\u001b[0;32m<ipython-input-3-ffec1cecb8dc>\u001b[0m in \u001b[0;36m<module>\u001b[0;34m\u001b[0m\n\u001b[0;32m----> 1\u001b[0;31m \u001b[0mtest\u001b[0m\u001b[0;34m.\u001b[0m\u001b[0mcreatename\u001b[0m\u001b[0;34m(\u001b[0m\u001b[0;34m'don'\u001b[0m\u001b[0;34m)\u001b[0m\u001b[0;34m\u001b[0m\u001b[0;34m\u001b[0m\u001b[0m\n\u001b[0m",
      "\u001b[0;31mTypeError\u001b[0m: createname() takes 1 positional argument but 2 were given"
     ]
    }
   ],
   "source": [
    "test.createname('don')"
   ]
  },
  {
   "cell_type": "code",
   "execution_count": null,
   "id": "fdca9af3",
   "metadata": {},
   "outputs": [],
   "source": [
    "see change with self "
   ]
  },
  {
   "cell_type": "code",
   "execution_count": 4,
   "id": "cee7c6c9",
   "metadata": {},
   "outputs": [],
   "source": [
    "class  customerdetails(): #class\n",
    "    def createname(self,username): #method\n",
    "        self.username=username\n",
    "        \n",
    "    def displayname(self): #method\n",
    "        print(self.username)\n",
    "        \n",
    "    def greetname(self): #method\n",
    "        print (f\" Hello, {self.username}\")"
   ]
  },
  {
   "cell_type": "code",
   "execution_count": 5,
   "id": "223b273f",
   "metadata": {},
   "outputs": [],
   "source": [
    "test = customerdetails() # assigning an object to the class"
   ]
  },
  {
   "cell_type": "code",
   "execution_count": 6,
   "id": "fd70c605",
   "metadata": {},
   "outputs": [],
   "source": [
    "test.createname('don')"
   ]
  },
  {
   "cell_type": "code",
   "execution_count": 7,
   "id": "f6ab1893",
   "metadata": {},
   "outputs": [
    {
     "name": "stdout",
     "output_type": "stream",
     "text": [
      "don\n"
     ]
    }
   ],
   "source": [
    "test.displayname()"
   ]
  },
  {
   "cell_type": "code",
   "execution_count": 8,
   "id": "fc4d38cc",
   "metadata": {},
   "outputs": [
    {
     "name": "stdout",
     "output_type": "stream",
     "text": [
      " Hello, don\n"
     ]
    }
   ],
   "source": [
    "test.greetname()"
   ]
  },
  {
   "cell_type": "code",
   "execution_count": null,
   "id": "4fb17f84",
   "metadata": {},
   "outputs": [],
   "source": []
  },
  {
   "cell_type": "code",
   "execution_count": null,
   "id": "ab203275",
   "metadata": {},
   "outputs": [],
   "source": [
    "# Requirement:\n",
    "Define a dog class; it needs to have below methods\n",
    "1. details (name, age) of dog\n",
    "2. jump\n",
    "3. roll_over\n"
   ]
  },
  {
   "cell_type": "code",
   "execution_count": 4,
   "id": "fd1d2213",
   "metadata": {},
   "outputs": [],
   "source": [
    "class dog():\n",
    "    def details(self, name, age, color):\n",
    "        self.name=name\n",
    "        self.age=age\n",
    "        self.color=color\n",
    "        \n",
    "    def jump(self):\n",
    "        print (f\"{self.name} is now jumping\")\n",
    "    def roll_over(self):\n",
    "        print (f\"{self.name} is now rolloing over\")"
   ]
  },
  {
   "cell_type": "code",
   "execution_count": 5,
   "id": "5ee54c77",
   "metadata": {},
   "outputs": [],
   "source": [
    "x= dog()"
   ]
  },
  {
   "cell_type": "code",
   "execution_count": 6,
   "id": "1550b806",
   "metadata": {},
   "outputs": [],
   "source": [
    "x.details ('scooby','2', 'brown')"
   ]
  },
  {
   "cell_type": "code",
   "execution_count": 7,
   "id": "a11adb9e",
   "metadata": {},
   "outputs": [
    {
     "name": "stdout",
     "output_type": "stream",
     "text": [
      "scooby is now jumping\n"
     ]
    }
   ],
   "source": [
    "x.jump()"
   ]
  },
  {
   "cell_type": "code",
   "execution_count": 8,
   "id": "c9baba7e",
   "metadata": {},
   "outputs": [
    {
     "name": "stdout",
     "output_type": "stream",
     "text": [
      "scooby is now rolloing over\n"
     ]
    }
   ],
   "source": [
    "x.roll_over()"
   ]
  },
  {
   "cell_type": "code",
   "execution_count": null,
   "id": "d0009b9d",
   "metadata": {},
   "outputs": [],
   "source": []
  },
  {
   "cell_type": "code",
   "execution_count": null,
   "id": "7e4b4239",
   "metadata": {},
   "outputs": [],
   "source": [
    "introduction ot constructor:\n",
    "    it is considered as special method/magical method/int method\n",
    "    functionality : used to initialize attributes\n",
    "        how to define constructor:\n",
    "            def __init__()"
   ]
  },
  {
   "cell_type": "code",
   "execution_count": null,
   "id": "552fb034",
   "metadata": {},
   "outputs": [],
   "source": [
    "# create class of cat and define its methods\n",
    "#run\n",
    "#walk\n",
    "#\n",
    "#sleep\n",
    "#jump"
   ]
  },
  {
   "cell_type": "code",
   "execution_count": 9,
   "id": "9d03b2fc",
   "metadata": {},
   "outputs": [],
   "source": [
    "class Cat():\n",
    "    def __init__(self,name,age):\n",
    "        self.name=name\n",
    "        self.age=age\n",
    "        \n",
    "    def run (self):\n",
    "        print (f\"{self.name}is not running\")\n",
    "    def walk(self):\n",
    "        print (f\"{self.name} is now waliking\")\n",
    "    def sleep (self):\n",
    "        print ( f\"{self.name} is now sleeping\")\n",
    "        \n",
    "    def details (self):\n",
    "        print (f\"i have a cat name {self.name}\")\n",
    "        print(f\"my {self.name} is {self.age} years old\")\n",
    "        "
   ]
  },
  {
   "cell_type": "code",
   "execution_count": 12,
   "id": "afa0ed4c",
   "metadata": {},
   "outputs": [],
   "source": [
    "pet = Cat('snowbell','3') #assignment of the object"
   ]
  },
  {
   "cell_type": "code",
   "execution_count": 14,
   "id": "e500ddb2",
   "metadata": {},
   "outputs": [
    {
     "name": "stdout",
     "output_type": "stream",
     "text": [
      "snowbellis not running\n"
     ]
    }
   ],
   "source": [
    "pet.run()"
   ]
  },
  {
   "cell_type": "code",
   "execution_count": 15,
   "id": "450417f4",
   "metadata": {},
   "outputs": [
    {
     "name": "stdout",
     "output_type": "stream",
     "text": [
      "snowbell is now waliking\n"
     ]
    }
   ],
   "source": [
    "pet.walk()"
   ]
  },
  {
   "cell_type": "code",
   "execution_count": 16,
   "id": "bbda13ca",
   "metadata": {},
   "outputs": [
    {
     "name": "stdout",
     "output_type": "stream",
     "text": [
      "i have a cat name snowbell\n",
      "my snowbell is 3 years old\n"
     ]
    }
   ],
   "source": [
    "pet.details()"
   ]
  },
  {
   "cell_type": "code",
   "execution_count": null,
   "id": "36819f17",
   "metadata": {},
   "outputs": [],
   "source": []
  },
  {
   "cell_type": "code",
   "execution_count": null,
   "id": "03be5747",
   "metadata": {},
   "outputs": [],
   "source": []
  },
  {
   "cell_type": "code",
   "execution_count": null,
   "id": "e8f9ffc3",
   "metadata": {},
   "outputs": [],
   "source": []
  },
  {
   "cell_type": "code",
   "execution_count": null,
   "id": "ec0b5a18",
   "metadata": {},
   "outputs": [],
   "source": [
    "#File handling in python:\n",
    "\n",
    "1. uploading the data file --> completed\n",
    "2. how to read the file by using python:"
   ]
  },
  {
   "cell_type": "code",
   "execution_count": 18,
   "id": "05573469",
   "metadata": {},
   "outputs": [
    {
     "name": "stdout",
     "output_type": "stream",
     "text": [
      "{\n",
      " \"cells\": [\n",
      "  {\n",
      "   \"cell_type\": \"code\",\n",
      "   \"execution_count\": 1,\n",
      "   \"id\": \"92ee805c\",\n",
      "   \"metadata\": {},\n",
      "   \"outputs\": [\n",
      "    {\n",
      "     \"name\": \"stdout\",\n",
      "     \"output_type\": \"stream\",\n",
      "     \"text\": [\n",
      "      \"hello srikrishna\\n\"\n",
      "     ]\n",
      "    }\n",
      "   ],\n",
      "   \"source\": [\n",
      "    \"print (\\\"hello srikrishna\\\")\"\n",
      "   ]\n",
      "  },\n",
      "  {\n",
      "   \"cell_type\": \"code\",\n",
      "   \"execution_count\": null,\n",
      "   \"id\": \"875d295a\",\n",
      "   \"metadata\": {},\n",
      "   \"outputs\": [],\n",
      "   \"source\": []\n",
      "  },\n",
      "  {\n",
      "   \"cell_type\": \"code\",\n",
      "   \"execution_count\": null,\n",
      "   \"id\": \"e434475d\",\n",
      "   \"metadata\": {},\n",
      "   \"outputs\": [],\n",
      "   \"source\": []\n",
      "  }\n",
      " ],\n",
      " \"metadata\": {\n",
      "  \"kernelspec\": {\n",
      "   \"display_name\": \"Python 3\",\n",
      "   \"language\": \"python\",\n",
      "   \"name\": \"python3\"\n",
      "  },\n",
      "  \"language_info\": {\n",
      "   \"codemirror_mode\": {\n",
      "    \"name\": \"ipython\",\n",
      "    \"version\": 3\n",
      "   },\n",
      "   \"file_extension\": \".py\",\n",
      "   \"mimetype\": \"text/x-python\",\n",
      "   \"name\": \"python\",\n",
      "   \"nbconvert_exporter\": \"python\",\n",
      "   \"pygments_lexer\": \"ipython3\",\n",
      "   \"version\": \"3.8.8\"\n",
      "  }\n",
      " },\n",
      " \"nbformat\": 4,\n",
      " \"nbformat_minor\": 5\n",
      "}\n",
      "\n"
     ]
    }
   ],
   "source": [
    "with open ('Hello_1.ipynb') as file_object: # with open ('filename') as file_handler\n",
    "    contents = file_object.read()        # variable = file_handler.operation\n",
    "    print (contents)"
   ]
  },
  {
   "cell_type": "code",
   "execution_count": 22,
   "id": "cd1e45ed",
   "metadata": {},
   "outputs": [
    {
     "ename": "UnicodeDecodeError",
     "evalue": "'utf-8' codec can't decode byte 0x8a in position 10: invalid start byte",
     "output_type": "error",
     "traceback": [
      "\u001b[0;31m---------------------------------------------------------------------------\u001b[0m",
      "\u001b[0;31mUnicodeDecodeError\u001b[0m                        Traceback (most recent call last)",
      "\u001b[0;32m<ipython-input-22-7751386b5d70>\u001b[0m in \u001b[0;36m<module>\u001b[0;34m\u001b[0m\n\u001b[1;32m      1\u001b[0m \u001b[0mdata\u001b[0m\u001b[0;34m=\u001b[0m \u001b[0;34m'python_file.txt'\u001b[0m\u001b[0;34m\u001b[0m\u001b[0;34m\u001b[0m\u001b[0m\n\u001b[1;32m      2\u001b[0m \u001b[0;32mwith\u001b[0m \u001b[0mopen\u001b[0m  \u001b[0;34m(\u001b[0m\u001b[0mdata\u001b[0m\u001b[0;34m)\u001b[0m \u001b[0;32mas\u001b[0m \u001b[0mx\u001b[0m\u001b[0;34m:\u001b[0m\u001b[0;34m\u001b[0m\u001b[0;34m\u001b[0m\u001b[0m\n\u001b[0;32m----> 3\u001b[0;31m     \u001b[0mcon\u001b[0m \u001b[0;34m=\u001b[0m \u001b[0mx\u001b[0m\u001b[0;34m.\u001b[0m\u001b[0mread\u001b[0m\u001b[0;34m(\u001b[0m\u001b[0;34m)\u001b[0m\u001b[0;34m\u001b[0m\u001b[0;34m\u001b[0m\u001b[0m\n\u001b[0m\u001b[1;32m      4\u001b[0m     \u001b[0mprint\u001b[0m \u001b[0;34m(\u001b[0m\u001b[0mcon\u001b[0m\u001b[0;34m)\u001b[0m\u001b[0;34m\u001b[0m\u001b[0;34m\u001b[0m\u001b[0m\n",
      "\u001b[0;32m~/opt/anaconda3/lib/python3.8/codecs.py\u001b[0m in \u001b[0;36mdecode\u001b[0;34m(self, input, final)\u001b[0m\n\u001b[1;32m    320\u001b[0m         \u001b[0;31m# decode input (taking the buffer into account)\u001b[0m\u001b[0;34m\u001b[0m\u001b[0;34m\u001b[0m\u001b[0;34m\u001b[0m\u001b[0m\n\u001b[1;32m    321\u001b[0m         \u001b[0mdata\u001b[0m \u001b[0;34m=\u001b[0m \u001b[0mself\u001b[0m\u001b[0;34m.\u001b[0m\u001b[0mbuffer\u001b[0m \u001b[0;34m+\u001b[0m \u001b[0minput\u001b[0m\u001b[0;34m\u001b[0m\u001b[0;34m\u001b[0m\u001b[0m\n\u001b[0;32m--> 322\u001b[0;31m         \u001b[0;34m(\u001b[0m\u001b[0mresult\u001b[0m\u001b[0;34m,\u001b[0m \u001b[0mconsumed\u001b[0m\u001b[0;34m)\u001b[0m \u001b[0;34m=\u001b[0m \u001b[0mself\u001b[0m\u001b[0;34m.\u001b[0m\u001b[0m_buffer_decode\u001b[0m\u001b[0;34m(\u001b[0m\u001b[0mdata\u001b[0m\u001b[0;34m,\u001b[0m \u001b[0mself\u001b[0m\u001b[0;34m.\u001b[0m\u001b[0merrors\u001b[0m\u001b[0;34m,\u001b[0m \u001b[0mfinal\u001b[0m\u001b[0;34m)\u001b[0m\u001b[0;34m\u001b[0m\u001b[0;34m\u001b[0m\u001b[0m\n\u001b[0m\u001b[1;32m    323\u001b[0m         \u001b[0;31m# keep undecoded input until the next call\u001b[0m\u001b[0;34m\u001b[0m\u001b[0;34m\u001b[0m\u001b[0;34m\u001b[0m\u001b[0m\n\u001b[1;32m    324\u001b[0m         \u001b[0mself\u001b[0m\u001b[0;34m.\u001b[0m\u001b[0mbuffer\u001b[0m \u001b[0;34m=\u001b[0m \u001b[0mdata\u001b[0m\u001b[0;34m[\u001b[0m\u001b[0mconsumed\u001b[0m\u001b[0;34m:\u001b[0m\u001b[0;34m]\u001b[0m\u001b[0;34m\u001b[0m\u001b[0;34m\u001b[0m\u001b[0m\n",
      "\u001b[0;31mUnicodeDecodeError\u001b[0m: 'utf-8' codec can't decode byte 0x8a in position 10: invalid start byte"
     ]
    }
   ],
   "source": [
    "data= 'python_file.txt'\n",
    "with open  (data) as x:\n",
    "    con = x.read()\n",
    "    print (con)"
   ]
  },
  {
   "cell_type": "code",
   "execution_count": null,
   "id": "d20f9bec",
   "metadata": {},
   "outputs": [],
   "source": []
  }
 ],
 "metadata": {
  "kernelspec": {
   "display_name": "Python 3",
   "language": "python",
   "name": "python3"
  },
  "language_info": {
   "codemirror_mode": {
    "name": "ipython",
    "version": 3
   },
   "file_extension": ".py",
   "mimetype": "text/x-python",
   "name": "python",
   "nbconvert_exporter": "python",
   "pygments_lexer": "ipython3",
   "version": "3.8.8"
  }
 },
 "nbformat": 4,
 "nbformat_minor": 5
}
