{
 "cells": [
  {
   "cell_type": "code",
   "execution_count": 1,
   "id": "3d9a12c1",
   "metadata": {},
   "outputs": [],
   "source": [
    "# introduction to string methods"
   ]
  },
  {
   "cell_type": "code",
   "execution_count": null,
   "id": "db727463",
   "metadata": {},
   "outputs": [],
   "source": [
    "Notes: methods are builtin programs that we can use"
   ]
  },
  {
   "cell_type": "code",
   "execution_count": 3,
   "id": "1a1e0014",
   "metadata": {},
   "outputs": [
    {
     "data": {
      "text/plain": [
       "str"
      ]
     },
     "execution_count": 3,
     "metadata": {},
     "output_type": "execute_result"
    }
   ],
   "source": [
    "name =\"hello\"\n",
    "type (name)"
   ]
  },
  {
   "cell_type": "code",
   "execution_count": 4,
   "id": "1fe34b3d",
   "metadata": {},
   "outputs": [
    {
     "name": "stdout",
     "output_type": "stream",
     "text": [
      "Srikrishna\n"
     ]
    }
   ],
   "source": [
    "fullname=\"srikrishna\"\n",
    "print (fullname.title())"
   ]
  },
  {
   "cell_type": "code",
   "execution_count": null,
   "id": "ee5754d0",
   "metadata": {},
   "outputs": [],
   "source": [
    "# to get output in capital letter"
   ]
  },
  {
   "cell_type": "code",
   "execution_count": 6,
   "id": "dfe3a91c",
   "metadata": {},
   "outputs": [
    {
     "name": "stdout",
     "output_type": "stream",
     "text": [
      "SRIKRISHNA\n"
     ]
    }
   ],
   "source": [
    "print (fullname.upper())"
   ]
  },
  {
   "cell_type": "code",
   "execution_count": null,
   "id": "9cf68dfd",
   "metadata": {},
   "outputs": [],
   "source": [
    "#to get output in small case letters"
   ]
  },
  {
   "cell_type": "code",
   "execution_count": 7,
   "id": "8e3c5491",
   "metadata": {},
   "outputs": [
    {
     "name": "stdout",
     "output_type": "stream",
     "text": [
      "srikrishna\n"
     ]
    }
   ],
   "source": [
    "print (fullname.lower())"
   ]
  },
  {
   "cell_type": "code",
   "execution_count": null,
   "id": "4ee57eff",
   "metadata": {},
   "outputs": [],
   "source": [
    "# Introduction to f strings\n",
    "general syntax of f strings:"
   ]
  },
  {
   "cell_type": "code",
   "execution_count": null,
   "id": "fd499454",
   "metadata": {},
   "outputs": [],
   "source": [
    "f\" custom words {place holder1} {place holer2}........{place holder..n}\""
   ]
  },
  {
   "cell_type": "code",
   "execution_count": 18,
   "id": "45af6ca9",
   "metadata": {},
   "outputs": [
    {
     "name": "stdout",
     "output_type": "stream",
     "text": [
      "dear buddy\n",
      "Dear Buddy\n"
     ]
    }
   ],
   "source": [
    "firstname='dear'\n",
    "lastname = 'buddy'\n",
    "fullname=f\"{firstname} {lastname}\"\n",
    "print (fullname)\n",
    "print (fullname.title())"
   ]
  },
  {
   "cell_type": "code",
   "execution_count": 20,
   "id": "7c413131",
   "metadata": {},
   "outputs": [
    {
     "name": "stdout",
     "output_type": "stream",
     "text": [
      "good work and completing work ontime,Dear Buddy\n"
     ]
    }
   ],
   "source": [
    "# appreciation message\n",
    "message = f\"good work and completing work ontime,{fullname.title()}\"\n",
    "print (message)"
   ]
  },
  {
   "cell_type": "code",
   "execution_count": 21,
   "id": "fd3f3d41",
   "metadata": {},
   "outputs": [
    {
     "name": "stdout",
     "output_type": "stream",
     "text": [
      "favorate_language:pythonc++javaswiftcobal\n"
     ]
    }
   ],
   "source": [
    "# Adding whitespaces to strings\n",
    "print (\"favorate_language:pythonc++javaswiftcobal\")"
   ]
  },
  {
   "cell_type": "code",
   "execution_count": 26,
   "id": "af13b5bd",
   "metadata": {},
   "outputs": [
    {
     "name": "stdout",
     "output_type": "stream",
     "text": [
      "favorate_language:\n",
      "\tpython\n",
      "\tc++\n",
      "\tjava\n",
      "\tswift\n",
      "\tcobal\n"
     ]
    }
   ],
   "source": [
    "#to make it clear above print in better understanding way add whitespaces\n",
    "# \\n => newline delimiter\n",
    "# \\t => tab delimiter\n",
    "print (\"favorate_language:\\n\\tpython\\n\\tc++\\n\\tjava\\n\\tswift\\n\\tcobal\")"
   ]
  },
  {
   "cell_type": "code",
   "execution_count": 31,
   "id": "fba429bc",
   "metadata": {},
   "outputs": [
    {
     "name": "stdout",
     "output_type": "stream",
     "text": [
      "python     python python    \n"
     ]
    }
   ],
   "source": [
    "#removing white spaces from strings:\n",
    "names1='python'\n",
    "names2='    python'\n",
    "names3='python    '\n",
    "print(names1,names2,names3)"
   ]
  },
  {
   "cell_type": "code",
   "execution_count": 34,
   "id": "959ad9e3",
   "metadata": {},
   "outputs": [
    {
     "data": {
      "text/plain": [
       "'python'"
      ]
     },
     "execution_count": 34,
     "metadata": {},
     "output_type": "execute_result"
    }
   ],
   "source": [
    "#lstrip, rstrip and strip will truncate the whitespace\n",
    "names1.strip()"
   ]
  },
  {
   "cell_type": "code",
   "execution_count": 35,
   "id": "d7caf809",
   "metadata": {},
   "outputs": [
    {
     "data": {
      "text/plain": [
       "'python'"
      ]
     },
     "execution_count": 35,
     "metadata": {},
     "output_type": "execute_result"
    }
   ],
   "source": [
    "names2.lstrip()"
   ]
  },
  {
   "cell_type": "code",
   "execution_count": 36,
   "id": "bef1e07f",
   "metadata": {},
   "outputs": [
    {
     "data": {
      "text/plain": [
       "'python'"
      ]
     },
     "execution_count": 36,
     "metadata": {},
     "output_type": "execute_result"
    }
   ],
   "source": [
    "names3.rstrip()"
   ]
  },
  {
   "cell_type": "code",
   "execution_count": null,
   "id": "395a24ae",
   "metadata": {},
   "outputs": [],
   "source": []
  }
 ],
 "metadata": {
  "kernelspec": {
   "display_name": "Python 3",
   "language": "python",
   "name": "python3"
  },
  "language_info": {
   "codemirror_mode": {
    "name": "ipython",
    "version": 3
   },
   "file_extension": ".py",
   "mimetype": "text/x-python",
   "name": "python",
   "nbconvert_exporter": "python",
   "pygments_lexer": "ipython3",
   "version": "3.8.8"
  }
 },
 "nbformat": 4,
 "nbformat_minor": 5
}
