{
 "cells": [
  {
   "cell_type": "code",
   "execution_count": 1,
   "id": "2d506f0a",
   "metadata": {},
   "outputs": [],
   "source": [
    "#Introduction looping statements"
   ]
  },
  {
   "cell_type": "code",
   "execution_count": 2,
   "id": "50f5c47b",
   "metadata": {},
   "outputs": [],
   "source": [
    "students=['sunil','ruksana','shama']"
   ]
  },
  {
   "cell_type": "code",
   "execution_count": 3,
   "id": "2707b272",
   "metadata": {},
   "outputs": [
    {
     "name": "stdout",
     "output_type": "stream",
     "text": [
      "['sunil', 'ruksana', 'shama']\n"
     ]
    }
   ],
   "source": [
    "print (students)"
   ]
  },
  {
   "cell_type": "code",
   "execution_count": 4,
   "id": "c9cdc42b",
   "metadata": {},
   "outputs": [],
   "source": [
    "#req: i want to appreciate all students above"
   ]
  },
  {
   "cell_type": "code",
   "execution_count": 9,
   "id": "7511f176",
   "metadata": {},
   "outputs": [
    {
     "name": "stdout",
     "output_type": "stream",
     "text": [
      "keep up the good work, Sunil\n"
     ]
    }
   ],
   "source": [
    "print(f\"keep up the good work, {students[0].title()}\")"
   ]
  },
  {
   "cell_type": "code",
   "execution_count": 10,
   "id": "2c5851a8",
   "metadata": {},
   "outputs": [
    {
     "name": "stdout",
     "output_type": "stream",
     "text": [
      "keep up the good work, Ruksana\n"
     ]
    }
   ],
   "source": [
    "print(f\"keep up the good work, {students[1].title()}\")"
   ]
  },
  {
   "cell_type": "code",
   "execution_count": null,
   "id": "581c03a6",
   "metadata": {},
   "outputs": [],
   "source": [
    "#getting the understanding the for loop\n",
    "#general syntax of for loop\n",
    "for tempvar in mainvar:\n",
    "    print(tempvar)"
   ]
  },
  {
   "cell_type": "code",
   "execution_count": 11,
   "id": "f6cb65ae",
   "metadata": {},
   "outputs": [
    {
     "name": "stdout",
     "output_type": "stream",
     "text": [
      "keep up the good work, Sunil\n",
      "keep up the good work, Ruksana\n",
      "keep up the good work, Shama\n"
     ]
    }
   ],
   "source": [
    "for x in students:\n",
    "    print(f\"keep up the good work, {x.title()}\")"
   ]
  },
  {
   "cell_type": "code",
   "execution_count": 12,
   "id": "ce91915c",
   "metadata": {},
   "outputs": [
    {
     "name": "stdout",
     "output_type": "stream",
     "text": [
      "sunil\n",
      "ruksana\n",
      "shama\n"
     ]
    }
   ],
   "source": [
    "for a in students:\n",
    "    print (a)"
   ]
  },
  {
   "cell_type": "code",
   "execution_count": 13,
   "id": "d4ff7bab",
   "metadata": {},
   "outputs": [
    {
     "name": "stdout",
     "output_type": "stream",
     "text": [
      "keep up the good work, Sunil\n",
      "keep up the good work, Ruksana\n",
      "keep up the good work, Shama\n"
     ]
    }
   ],
   "source": [
    "for appr in students:\n",
    "    print(f\"keep up the good work, {appr.title()}\")"
   ]
  },
  {
   "cell_type": "code",
   "execution_count": 17,
   "id": "2fa33fa0",
   "metadata": {},
   "outputs": [
    {
     "name": "stdout",
     "output_type": "stream",
     "text": [
      "keep up the good work, Sunil\n",
      "i also want to tell them that i will be looking for todays github url in my inbox, Sunil\n",
      "\n",
      "keep up the good work, Ruksana\n",
      "i also want to tell them that i will be looking for todays github url in my inbox, Ruksana\n",
      "\n",
      "keep up the good work, Shama\n",
      "i also want to tell them that i will be looking for todays github url in my inbox, Shama\n",
      "\n"
     ]
    }
   ],
   "source": [
    "#req: i also want to tell them that \"i will be looking for todays github url in my inbox\"\n",
    "for x in students:\n",
    "    print (f\"keep up the good work, {x.title()}\")\n",
    "    print (f\"i also want to tell them that i will be looking for todays github url in my inbox, {x.title()}\\n\")"
   ]
  },
  {
   "cell_type": "code",
   "execution_count": 20,
   "id": "85c60246",
   "metadata": {},
   "outputs": [
    {
     "name": "stdout",
     "output_type": "stream",
     "text": [
      "keep up the good work, Sunil\n",
      "i also want to tell them that i will be looking for todays github url in my inbox, Sunil\n",
      "\n",
      "keep up the good work, Ruksana\n",
      "i also want to tell them that i will be looking for todays github url in my inbox, Ruksana\n",
      "\n",
      "keep up the good work, Shama\n",
      "i also want to tell them that i will be looking for todays github url in my inbox, Shama\n",
      "\n",
      "thanks you all\n"
     ]
    }
   ],
   "source": [
    "#writing out of the loop\n",
    "for x in students:\n",
    "    print (f\"keep up the good work, {x.title()}\")\n",
    "    print (f\"i also want to tell them that i will be looking for todays github url in my inbox, {x.title()}\\n\")\n",
    "print (\"thanks you all\")"
   ]
  },
  {
   "cell_type": "code",
   "execution_count": null,
   "id": "4bad76eb",
   "metadata": {},
   "outputs": [],
   "source": []
  }
 ],
 "metadata": {
  "kernelspec": {
   "display_name": "Python 3",
   "language": "python",
   "name": "python3"
  },
  "language_info": {
   "codemirror_mode": {
    "name": "ipython",
    "version": 3
   },
   "file_extension": ".py",
   "mimetype": "text/x-python",
   "name": "python",
   "nbconvert_exporter": "python",
   "pygments_lexer": "ipython3",
   "version": "3.8.8"
  }
 },
 "nbformat": 4,
 "nbformat_minor": 5
}
