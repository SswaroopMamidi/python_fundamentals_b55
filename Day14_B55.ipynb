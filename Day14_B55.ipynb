{
 "cells": [
  {
   "cell_type": "code",
   "execution_count": null,
   "id": "ce402e89",
   "metadata": {},
   "outputs": [],
   "source": [
    "Python Classes:\n",
    "class:\n",
    "methods:\n",
    "objects:\n",
    "attributes:\n",
    "self\n",
    "object"
   ]
  },
  {
   "cell_type": "code",
   "execution_count": null,
   "id": "7ee20081",
   "metadata": {},
   "outputs": [],
   "source": [
    "class: it is high level blue print on the program\n",
    "    class is the keyword for defining the class\n",
    "    "
   ]
  },
  {
   "cell_type": "code",
   "execution_count": null,
   "id": "c94248fc",
   "metadata": {},
   "outputs": [],
   "source": [
    "method: written inside the class "
   ]
  },
  {
   "cell_type": "code",
   "execution_count": null,
   "id": "81a7d5df",
   "metadata": {},
   "outputs": [],
   "source": [
    "attribute: a variable is written inside the class "
   ]
  },
  {
   "cell_type": "code",
   "execution_count": null,
   "id": "3ac54e4e",
   "metadata": {},
   "outputs": [],
   "source": [
    "self: self is a temp placeholder for an object"
   ]
  },
  {
   "cell_type": "code",
   "execution_count": null,
   "id": "845e4a18",
   "metadata": {},
   "outputs": [],
   "source": [
    "object: it is an entry/class point to the class methods."
   ]
  },
  {
   "cell_type": "code",
   "execution_count": null,
   "id": "157d32e3",
   "metadata": {},
   "outputs": [],
   "source": []
  },
  {
   "cell_type": "code",
   "execution_count": 1,
   "id": "47ff1436",
   "metadata": {},
   "outputs": [],
   "source": [
    "class  customerdetails(): #class\n",
    "    def createname(username): #method\n",
    "        self.username=username\n",
    "        \n",
    "    def displayname(): #method\n",
    "        print(self.username)\n",
    "        \n",
    "    def greetname(): #method\n",
    "        print (f\" Hello, {self.username}\")"
   ]
  },
  {
   "cell_type": "code",
   "execution_count": 2,
   "id": "1d629458",
   "metadata": {},
   "outputs": [],
   "source": [
    "test = customerdetails() # assigning an object to the class"
   ]
  },
  {
   "cell_type": "code",
   "execution_count": 3,
   "id": "6da9252b",
   "metadata": {},
   "outputs": [
    {
     "ename": "TypeError",
     "evalue": "createname() takes 1 positional argument but 2 were given",
     "output_type": "error",
     "traceback": [
      "\u001b[0;31m---------------------------------------------------------------------------\u001b[0m",
      "\u001b[0;31mTypeError\u001b[0m                                 Traceback (most recent call last)",
      "\u001b[0;32m<ipython-input-3-ffec1cecb8dc>\u001b[0m in \u001b[0;36m<module>\u001b[0;34m\u001b[0m\n\u001b[0;32m----> 1\u001b[0;31m \u001b[0mtest\u001b[0m\u001b[0;34m.\u001b[0m\u001b[0mcreatename\u001b[0m\u001b[0;34m(\u001b[0m\u001b[0;34m'don'\u001b[0m\u001b[0;34m)\u001b[0m\u001b[0;34m\u001b[0m\u001b[0;34m\u001b[0m\u001b[0m\n\u001b[0m",
      "\u001b[0;31mTypeError\u001b[0m: createname() takes 1 positional argument but 2 were given"
     ]
    }
   ],
   "source": [
    "test.createname('don')"
   ]
  },
  {
   "cell_type": "code",
   "execution_count": null,
   "id": "fdca9af3",
   "metadata": {},
   "outputs": [],
   "source": [
    "see change with self "
   ]
  },
  {
   "cell_type": "code",
   "execution_count": 4,
   "id": "cee7c6c9",
   "metadata": {},
   "outputs": [],
   "source": [
    "class  customerdetails(): #class\n",
    "    def createname(self,username): #method\n",
    "        self.username=username\n",
    "        \n",
    "    def displayname(self): #method\n",
    "        print(self.username)\n",
    "        \n",
    "    def greetname(self): #method\n",
    "        print (f\" Hello, {self.username}\")"
   ]
  },
  {
   "cell_type": "code",
   "execution_count": 5,
   "id": "223b273f",
   "metadata": {},
   "outputs": [],
   "source": [
    "test = customerdetails() # assigning an object to the class"
   ]
  },
  {
   "cell_type": "code",
   "execution_count": 6,
   "id": "fd70c605",
   "metadata": {},
   "outputs": [],
   "source": [
    "test.createname('don')"
   ]
  },
  {
   "cell_type": "code",
   "execution_count": 7,
   "id": "f6ab1893",
   "metadata": {},
   "outputs": [
    {
     "name": "stdout",
     "output_type": "stream",
     "text": [
      "don\n"
     ]
    }
   ],
   "source": [
    "test.displayname()"
   ]
  },
  {
   "cell_type": "code",
   "execution_count": 8,
   "id": "fc4d38cc",
   "metadata": {},
   "outputs": [
    {
     "name": "stdout",
     "output_type": "stream",
     "text": [
      " Hello, don\n"
     ]
    }
   ],
   "source": [
    "test.greetname()"
   ]
  },
  {
   "cell_type": "code",
   "execution_count": null,
   "id": "4fb17f84",
   "metadata": {},
   "outputs": [],
   "source": []
  },
  {
   "cell_type": "code",
   "execution_count": null,
   "id": "ab203275",
   "metadata": {},
   "outputs": [],
   "source": [
    "# Requirement:\n",
    "Define a dog class; it needs to have below methods\n",
    "1. details (name, age) of dog\n",
    "2. jump\n",
    "3. roll_over\n"
   ]
  },
  {
   "cell_type": "code",
   "execution_count": 9,
   "id": "fd1d2213",
   "metadata": {},
   "outputs": [],
   "source": [
    "class dog():\n",
    "    def details(self, name, age, color):\n",
    "        self.name=name\n",
    "        self.age=age\n",
    "        self.color=color\n",
    "        \n",
    "    def jump(self):\n",
    "        print (f\"{self.name} is now jumping\")\n",
    "    def roll_over(self):\n",
    "        print (f\"{self.name} is now rolloing over\")"
   ]
  },
  {
   "cell_type": "code",
   "execution_count": 10,
   "id": "5ee54c77",
   "metadata": {},
   "outputs": [],
   "source": [
    "x= dog()"
   ]
  },
  {
   "cell_type": "code",
   "execution_count": 11,
   "id": "1550b806",
   "metadata": {},
   "outputs": [],
   "source": [
    "x.details ('scooby','2', 'brown')"
   ]
  },
  {
   "cell_type": "code",
   "execution_count": 12,
   "id": "a11adb9e",
   "metadata": {},
   "outputs": [
    {
     "name": "stdout",
     "output_type": "stream",
     "text": [
      "scooby is now jumping\n"
     ]
    }
   ],
   "source": [
    "x.jump()"
   ]
  },
  {
   "cell_type": "code",
   "execution_count": null,
   "id": "c9baba7e",
   "metadata": {},
   "outputs": [],
   "source": []
  }
 ],
 "metadata": {
  "kernelspec": {
   "display_name": "Python 3",
   "language": "python",
   "name": "python3"
  },
  "language_info": {
   "codemirror_mode": {
    "name": "ipython",
    "version": 3
   },
   "file_extension": ".py",
   "mimetype": "text/x-python",
   "name": "python",
   "nbconvert_exporter": "python",
   "pygments_lexer": "ipython3",
   "version": "3.8.8"
  }
 },
 "nbformat": 4,
 "nbformat_minor": 5
}
