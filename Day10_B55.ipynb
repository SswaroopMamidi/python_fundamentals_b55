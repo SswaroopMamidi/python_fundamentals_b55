{
 "cells": [
  {
   "cell_type": "code",
   "execution_count": null,
   "id": "f030ad63",
   "metadata": {},
   "outputs": [],
   "source": [
    "#continution with dictionary dataType:\n"
   ]
  },
  {
   "cell_type": "code",
   "execution_count": 1,
   "id": "b4f6addf",
   "metadata": {},
   "outputs": [],
   "source": [
    "alien={'color':'green','points':5,'start_position':0}"
   ]
  },
  {
   "cell_type": "code",
   "execution_count": 2,
   "id": "52825e49",
   "metadata": {},
   "outputs": [
    {
     "name": "stdout",
     "output_type": "stream",
     "text": [
      "{'color': 'green', 'points': 5, 'start_position': 0}\n"
     ]
    }
   ],
   "source": [
    "print (alien)"
   ]
  },
  {
   "cell_type": "code",
   "execution_count": 3,
   "id": "82cb323c",
   "metadata": {},
   "outputs": [
    {
     "data": {
      "text/plain": [
       "dict"
      ]
     },
     "execution_count": 3,
     "metadata": {},
     "output_type": "execute_result"
    }
   ],
   "source": [
    "type (alien)"
   ]
  },
  {
   "cell_type": "code",
   "execution_count": null,
   "id": "bd0839e6",
   "metadata": {},
   "outputs": [],
   "source": [
    "#Req: Implementation of for loop in dictionary\n",
    "#General syntax of a for loop in a dictionary \n",
    "for k,v in mainvar.items():\n",
    "    print (k)\n",
    "    print (v)"
   ]
  },
  {
   "cell_type": "code",
   "execution_count": 4,
   "id": "df7dffd2",
   "metadata": {},
   "outputs": [
    {
     "name": "stdout",
     "output_type": "stream",
     "text": [
      "color\n",
      "green\n",
      "points\n",
      "5\n",
      "start_position\n",
      "0\n"
     ]
    }
   ],
   "source": [
    "for k,v in alien.items():\n",
    "    print (k)\n",
    "    print (v)"
   ]
  },
  {
   "cell_type": "code",
   "execution_count": 5,
   "id": "a3ec1499",
   "metadata": {},
   "outputs": [
    {
     "name": "stdout",
     "output_type": "stream",
     "text": [
      "key: color\n",
      "value: green \n",
      "\n",
      "key: points\n",
      "value: 5 \n",
      "\n",
      "key: start_position\n",
      "value: 0 \n",
      "\n"
     ]
    }
   ],
   "source": [
    "#To enhance above output, adjust code loop logic\n",
    "for k,v in alien.items():\n",
    "    print (f\"key: {k}\")\n",
    "    print (f\"value: {v} \\n\")"
   ]
  },
  {
   "cell_type": "code",
   "execution_count": 8,
   "id": "ce5f2ec5",
   "metadata": {},
   "outputs": [
    {
     "name": "stdout",
     "output_type": "stream",
     "text": [
      "key: color\n",
      "key: points\n",
      "key: start_position\n"
     ]
    }
   ],
   "source": [
    "# I want to get only keys from above dictionary\n",
    "for k in alien.keys ():\n",
    "    print (f\"key: {k}\")"
   ]
  },
  {
   "cell_type": "code",
   "execution_count": 11,
   "id": "d08819f1",
   "metadata": {},
   "outputs": [
    {
     "name": "stdout",
     "output_type": "stream",
     "text": [
      "values: green\n",
      "values: 5\n",
      "values: 0\n"
     ]
    }
   ],
   "source": [
    "#I want to get only values from above dictionary\n",
    "for v in alien.values():\n",
    "    print (f\"values: {v}\")"
   ]
  },
  {
   "cell_type": "code",
   "execution_count": null,
   "id": "80141716",
   "metadata": {},
   "outputs": [],
   "source": []
  }
 ],
 "metadata": {
  "kernelspec": {
   "display_name": "Python 3",
   "language": "python",
   "name": "python3"
  },
  "language_info": {
   "codemirror_mode": {
    "name": "ipython",
    "version": 3
   },
   "file_extension": ".py",
   "mimetype": "text/x-python",
   "name": "python",
   "nbconvert_exporter": "python",
   "pygments_lexer": "ipython3",
   "version": "3.8.8"
  }
 },
 "nbformat": 4,
 "nbformat_minor": 5
}
