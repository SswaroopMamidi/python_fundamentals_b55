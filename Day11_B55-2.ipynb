{
 "cells": [
  {
   "cell_type": "code",
   "execution_count": 1,
   "id": "d94320ee",
   "metadata": {},
   "outputs": [
    {
     "name": "stdout",
     "output_type": "stream",
     "text": [
      "tell me somthing i will repeat it for youhello Don\n",
      "hello Don\n"
     ]
    }
   ],
   "source": [
    "# understanding the concept of user input\n",
    "message = input(\"tell me somthing i will repeat it for you\")\n",
    "print (message)"
   ]
  },
  {
   "cell_type": "code",
   "execution_count": 4,
   "id": "485d6b22",
   "metadata": {},
   "outputs": [
    {
     "name": "stdout",
     "output_type": "stream",
     "text": [
      "please enter your nameHello Swaroop Don\n",
      "\n",
      " Hello, Hello Swaroop Don\n"
     ]
    }
   ],
   "source": [
    "name = input(\"please enter your name\")\n",
    "print (f\"\\n Hello, {name}\")"
   ]
  },
  {
   "cell_type": "code",
   "execution_count": 7,
   "id": "1a92eaa6",
   "metadata": {},
   "outputs": [
    {
     "name": "stdout",
     "output_type": "stream",
     "text": [
      "if you tell us who you are, we can personalise message for you\n",
      " what is your first namehello Lavanya\n",
      " \n",
      " Good eve,hello Lavanya\n"
     ]
    }
   ],
   "source": [
    "prompt = \"if you tell us who you are, we can personalise message for you\"\n",
    "prompt += \"\\n what is your first name\"\n",
    "name = input (prompt)\n",
    "print (f\" \\n Good eve,{name}\")"
   ]
  },
  {
   "cell_type": "code",
   "execution_count": null,
   "id": "3fa72f61",
   "metadata": {},
   "outputs": [],
   "source": [
    "#Accepting the numerical input\n",
    "#NOTE: input by default accept the input given in string format"
   ]
  },
  {
   "cell_type": "code",
   "execution_count": 8,
   "id": "23f3c7ee",
   "metadata": {},
   "outputs": [
    {
     "name": "stdout",
     "output_type": "stream",
     "text": [
      "how old are you27\n"
     ]
    }
   ],
   "source": [
    "age = input (\"how old are you\")"
   ]
  },
  {
   "cell_type": "code",
   "execution_count": 9,
   "id": "a464cc2a",
   "metadata": {},
   "outputs": [
    {
     "ename": "TypeError",
     "evalue": "'>=' not supported between instances of 'str' and 'int'",
     "output_type": "error",
     "traceback": [
      "\u001b[0;31m---------------------------------------------------------------------------\u001b[0m",
      "\u001b[0;31mTypeError\u001b[0m                                 Traceback (most recent call last)",
      "\u001b[0;32m<ipython-input-9-4ce6028355cc>\u001b[0m in \u001b[0;36m<module>\u001b[0;34m\u001b[0m\n\u001b[0;32m----> 1\u001b[0;31m \u001b[0mage\u001b[0m \u001b[0;34m>=\u001b[0m \u001b[0;36m18\u001b[0m\u001b[0;34m\u001b[0m\u001b[0;34m\u001b[0m\u001b[0m\n\u001b[0m",
      "\u001b[0;31mTypeError\u001b[0m: '>=' not supported between instances of 'str' and 'int'"
     ]
    }
   ],
   "source": [
    "age >= 18"
   ]
  },
  {
   "cell_type": "code",
   "execution_count": 10,
   "id": "5aebced4",
   "metadata": {},
   "outputs": [
    {
     "name": "stdout",
     "output_type": "stream",
     "text": [
      "how old are you34\n"
     ]
    }
   ],
   "source": [
    "#Type casting of the DataTypes\n",
    "age = input(\"how old are you\")\n",
    "age = int(age)"
   ]
  },
  {
   "cell_type": "code",
   "execution_count": 13,
   "id": "2c3ffab4",
   "metadata": {},
   "outputs": [
    {
     "name": "stdout",
     "output_type": "stream",
     "text": [
      "how old are you?14\n",
      "please wait for 18 yrs completion\n"
     ]
    }
   ],
   "source": [
    "#Building a votin application and validating up on the age entered\n",
    "age = input (\"how old are you?\")\n",
    "age = int(age)\n",
    "if age>=18:\n",
    "    print (\" you are eligible to cast vote\")\n",
    "else:\n",
    "    print (\"please wait for 18 yrs completion\")"
   ]
  },
  {
   "cell_type": "code",
   "execution_count": null,
   "id": "1631fe47",
   "metadata": {},
   "outputs": [],
   "source": [
    "#Understanding the modulo operator"
   ]
  },
  {
   "cell_type": "code",
   "execution_count": 14,
   "id": "abd01c80",
   "metadata": {},
   "outputs": [
    {
     "name": "stdout",
     "output_type": "stream",
     "text": [
      "enter a number , and i will tell you if its even or odd12\n",
      "number is even\n"
     ]
    }
   ],
   "source": [
    "#understanding the modulo operator\n",
    "5%3\n",
    "# finding the number is even or odd\n",
    "number= input(\"enter a number , and i will tell you if its even or odd\")\n",
    "number = int (number)\n",
    "if (number%2==0):\n",
    "    print (\"number is even\")\n",
    "else: \n",
    "    print (\"number is odd\")"
   ]
  },
  {
   "cell_type": "code",
   "execution_count": null,
   "id": "7d749efa",
   "metadata": {},
   "outputs": [],
   "source": []
  }
 ],
 "metadata": {
  "kernelspec": {
   "display_name": "Python 3",
   "language": "python",
   "name": "python3"
  },
  "language_info": {
   "codemirror_mode": {
    "name": "ipython",
    "version": 3
   },
   "file_extension": ".py",
   "mimetype": "text/x-python",
   "name": "python",
   "nbconvert_exporter": "python",
   "pygments_lexer": "ipython3",
   "version": "3.8.8"
  }
 },
 "nbformat": 4,
 "nbformat_minor": 5
}
