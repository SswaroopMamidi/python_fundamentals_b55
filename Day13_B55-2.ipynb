{
 "cells": [
  {
   "cell_type": "code",
   "execution_count": null,
   "id": "aabbbca7",
   "metadata": {},
   "outputs": [],
   "source": [
    "python functions:\n",
    "    parameters and arguments\n",
    "    types of arguments"
   ]
  },
  {
   "cell_type": "code",
   "execution_count": 2,
   "id": "7914ddfd",
   "metadata": {},
   "outputs": [],
   "source": [
    "def greeting(): # defining the function\n",
    "    \"\"\"creating a greeting function\"\"\" \n",
    "    print (\"hello\")"
   ]
  },
  {
   "cell_type": "code",
   "execution_count": 3,
   "id": "d33a1128",
   "metadata": {},
   "outputs": [
    {
     "name": "stdout",
     "output_type": "stream",
     "text": [
      "hello\n"
     ]
    }
   ],
   "source": [
    "greeting()"
   ]
  },
  {
   "cell_type": "code",
   "execution_count": 8,
   "id": "60e710b2",
   "metadata": {},
   "outputs": [],
   "source": [
    "def greet_user(username):\n",
    "    \"\"\"creating a fun for greeting the user\"\"\"\n",
    "    print (f\"hello, {username}\")\n",
    "    "
   ]
  },
  {
   "cell_type": "code",
   "execution_count": 9,
   "id": "a4d4cf25",
   "metadata": {},
   "outputs": [
    {
     "name": "stdout",
     "output_type": "stream",
     "text": [
      "hello, hema\n"
     ]
    }
   ],
   "source": [
    "greet_user('hema')"
   ]
  },
  {
   "cell_type": "code",
   "execution_count": null,
   "id": "01633fe4",
   "metadata": {},
   "outputs": [],
   "source": [
    "types of arguments:\n",
    "    # creating function\n",
    "    "
   ]
  },
  {
   "cell_type": "code",
   "execution_count": 10,
   "id": "51f66f11",
   "metadata": {},
   "outputs": [],
   "source": [
    "def describe_pet(animal_type,pet_name):\n",
    "    \"\"\"creating a pet function for capturing the details\"\"\"\n",
    "    print (f\" i have a {animal_type}\")\n",
    "    print (f\" my {animal_type}'s name is {pet_name}\")"
   ]
  },
  {
   "cell_type": "code",
   "execution_count": 11,
   "id": "6a032176",
   "metadata": {},
   "outputs": [
    {
     "name": "stdout",
     "output_type": "stream",
     "text": [
      " i have a dog\n",
      " my dog's name is bruno\n"
     ]
    }
   ],
   "source": [
    " describe_pet('dog','bruno') # positional arguments"
   ]
  },
  {
   "cell_type": "code",
   "execution_count": 12,
   "id": "e5150b7c",
   "metadata": {},
   "outputs": [
    {
     "name": "stdout",
     "output_type": "stream",
     "text": [
      " i have a bruno\n",
      " my bruno's name is dog\n"
     ]
    }
   ],
   "source": [
    "describe_pet('bruno','dog')"
   ]
  },
  {
   "cell_type": "code",
   "execution_count": 13,
   "id": "3d6c6578",
   "metadata": {},
   "outputs": [
    {
     "name": "stdout",
     "output_type": "stream",
     "text": [
      " i have a dog\n",
      " my dog's name is bruno\n"
     ]
    }
   ],
   "source": [
    "describe_pet(animal_type='dog', pet_name='bruno') # keyword arguments"
   ]
  },
  {
   "cell_type": "code",
   "execution_count": null,
   "id": "3c169b3c",
   "metadata": {},
   "outputs": [],
   "source": [
    "Note: in case of any missing info we will treat the animal type as a dog"
   ]
  },
  {
   "cell_type": "code",
   "execution_count": 14,
   "id": "8590887d",
   "metadata": {},
   "outputs": [
    {
     "ename": "SyntaxError",
     "evalue": "non-default argument follows default argument (<ipython-input-14-9deb21e497fc>, line 1)",
     "output_type": "error",
     "traceback": [
      "\u001b[0;36m  File \u001b[0;32m\"<ipython-input-14-9deb21e497fc>\"\u001b[0;36m, line \u001b[0;32m1\u001b[0m\n\u001b[0;31m    def describe_pet(animal_type='dog',pet_name):\u001b[0m\n\u001b[0m                     ^\u001b[0m\n\u001b[0;31mSyntaxError\u001b[0m\u001b[0;31m:\u001b[0m non-default argument follows default argument\n"
     ]
    }
   ],
   "source": [
    "def describe_pet(animal_type='dog',pet_name):\n",
    "    \"\"\"creating a pet function for capturing the details\"\"\"\n",
    "    print (f\" i have a {animal_type}\")\n",
    "    print (f\" my {animal_type}'s name is {pet_name}\")"
   ]
  },
  {
   "cell_type": "code",
   "execution_count": null,
   "id": "fd7327fa",
   "metadata": {},
   "outputs": [],
   "source": [
    "# consider above error, hence we need to alter the position of default and non-default arguments "
   ]
  },
  {
   "cell_type": "code",
   "execution_count": 15,
   "id": "cb8677e2",
   "metadata": {},
   "outputs": [],
   "source": [
    "def describe_pet(pet_name, animal_type='dog'):\n",
    "    \"\"\"creating a pet function for capturing the details\"\"\"\n",
    "    print (f\" i have a {animal_type}\")\n",
    "    print (f\" my {animal_type}'s name is {pet_name}\")"
   ]
  },
  {
   "cell_type": "code",
   "execution_count": 16,
   "id": "beb44020",
   "metadata": {},
   "outputs": [
    {
     "name": "stdout",
     "output_type": "stream",
     "text": [
      " i have a dog\n",
      " my dog's name is dora\n"
     ]
    }
   ],
   "source": [
    "describe_pet('dora')"
   ]
  },
  {
   "cell_type": "code",
   "execution_count": null,
   "id": "bdaaa994",
   "metadata": {},
   "outputs": [],
   "source": []
  },
  {
   "cell_type": "code",
   "execution_count": null,
   "id": "ea7eefb7",
   "metadata": {},
   "outputs": [],
   "source": [
    "introduction to python classes:\n",
    "    class \n",
    "    mthods\n",
    "    attributes\n",
    "    self\n",
    "    object"
   ]
  },
  {
   "cell_type": "code",
   "execution_count": null,
   "id": "e52815fb",
   "metadata": {},
   "outputs": [],
   "source": [
    "class: A class is a high level blue print of the program\n",
    "method: a function written inside a class is caleed as a menthod\n",
    "attribute: a variable written inside a class is called as an attribute\n",
    "self : it is temp placeholder for an object\n",
    "object: an object is an access/ entry point to the class methods.\n"
   ]
  }
 ],
 "metadata": {
  "kernelspec": {
   "display_name": "Python 3",
   "language": "python",
   "name": "python3"
  },
  "language_info": {
   "codemirror_mode": {
    "name": "ipython",
    "version": 3
   },
   "file_extension": ".py",
   "mimetype": "text/x-python",
   "name": "python",
   "nbconvert_exporter": "python",
   "pygments_lexer": "ipython3",
   "version": "3.8.8"
  }
 },
 "nbformat": 4,
 "nbformat_minor": 5
}
