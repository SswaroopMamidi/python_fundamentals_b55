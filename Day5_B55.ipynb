{
 "cells": [
  {
   "cell_type": "code",
   "execution_count": null,
   "id": "ca0b9382",
   "metadata": {},
   "outputs": [],
   "source": [
    "cont. list and data type:"
   ]
  },
  {
   "cell_type": "code",
   "execution_count": null,
   "id": "81a54ad6",
   "metadata": {},
   "outputs": [],
   "source": [
    "organising the list data type"
   ]
  },
  {
   "cell_type": "code",
   "execution_count": 5,
   "id": "a9465450",
   "metadata": {},
   "outputs": [],
   "source": [
    "cars = ['benz', 'audi', 'bmw', 'kia','hyundai']"
   ]
  },
  {
   "cell_type": "code",
   "execution_count": 6,
   "id": "c30e3b22",
   "metadata": {},
   "outputs": [
    {
     "name": "stdout",
     "output_type": "stream",
     "text": [
      "['benz', 'audi', 'bmw', 'kia', 'hyundai']\n"
     ]
    }
   ],
   "source": [
    "print (cars)"
   ]
  },
  {
   "cell_type": "code",
   "execution_count": 7,
   "id": "646f7b9f",
   "metadata": {},
   "outputs": [],
   "source": [
    "# requirement: i want to get the output in the alphabetical order "
   ]
  },
  {
   "cell_type": "code",
   "execution_count": null,
   "id": "dde27ec3",
   "metadata": {},
   "outputs": [],
   "source": [
    "1. temp approach  -> sorted -> we can get the original order of the list assigned initially\n",
    "2. permanent approach -> sort -> changes are implied permanently\n"
   ]
  },
  {
   "cell_type": "code",
   "execution_count": 8,
   "id": "a4f6aca0",
   "metadata": {},
   "outputs": [
    {
     "name": "stdout",
     "output_type": "stream",
     "text": [
      "['audi', 'benz', 'bmw', 'hyundai', 'kia']\n"
     ]
    }
   ],
   "source": [
    "print (sorted(cars))"
   ]
  },
  {
   "cell_type": "code",
   "execution_count": 10,
   "id": "831a99c4",
   "metadata": {},
   "outputs": [
    {
     "name": "stdout",
     "output_type": "stream",
     "text": [
      "['audi', 'benz', 'bmw', 'hyundai', 'kia']\n"
     ]
    }
   ],
   "source": [
    "cars.sort()\n",
    "print (cars)"
   ]
  },
  {
   "cell_type": "code",
   "execution_count": 11,
   "id": "fb23c32a",
   "metadata": {},
   "outputs": [],
   "source": [
    "#print the entire list in reverse order"
   ]
  },
  {
   "cell_type": "code",
   "execution_count": 14,
   "id": "3f62e4f9",
   "metadata": {},
   "outputs": [
    {
     "name": "stdout",
     "output_type": "stream",
     "text": [
      "['kia', 'hyundai', 'bmw', 'benz', 'audi']\n"
     ]
    }
   ],
   "source": [
    "cars.reverse()\n",
    "print (cars)"
   ]
  },
  {
   "cell_type": "code",
   "execution_count": 15,
   "id": "148f2679",
   "metadata": {},
   "outputs": [
    {
     "data": {
      "text/plain": [
       "5"
      ]
     },
     "execution_count": 15,
     "metadata": {},
     "output_type": "execute_result"
    }
   ],
   "source": [
    "# to know the length of the list\n",
    "len(cars)"
   ]
  },
  {
   "cell_type": "code",
   "execution_count": 18,
   "id": "e280e2cf",
   "metadata": {},
   "outputs": [],
   "source": [
    "#introduction to slicing of list\n",
    "students = ['rahim','pavan','radha','pantulu','rajendra','oncemore']\n",
    "#general syntax of slicing\n",
    "\n",
    "\n",
    "#startvalue:stopvalue:stepcount \n",
    "#stopvalue/lastvalue is always exclusive"
   ]
  },
  {
   "cell_type": "code",
   "execution_count": 21,
   "id": "02cae703",
   "metadata": {},
   "outputs": [
    {
     "name": "stdout",
     "output_type": "stream",
     "text": [
      "['rahim']\n"
     ]
    }
   ],
   "source": [
    "print(students[0:1])"
   ]
  },
  {
   "cell_type": "code",
   "execution_count": 22,
   "id": "7e4b4623",
   "metadata": {},
   "outputs": [
    {
     "name": "stdout",
     "output_type": "stream",
     "text": [
      "['rahim', 'radha', 'rajendra']\n"
     ]
    }
   ],
   "source": [
    "print (students[0:5:2])"
   ]
  },
  {
   "cell_type": "code",
   "execution_count": 30,
   "id": "4925e3db",
   "metadata": {},
   "outputs": [
    {
     "name": "stdout",
     "output_type": "stream",
     "text": [
      "['radha']\n"
     ]
    }
   ],
   "source": [
    "# want to get radha from the list\n",
    "print (students[2:3])"
   ]
  },
  {
   "cell_type": "code",
   "execution_count": null,
   "id": "02eeb55b",
   "metadata": {},
   "outputs": [],
   "source": []
  }
 ],
 "metadata": {
  "kernelspec": {
   "display_name": "Python 3",
   "language": "python",
   "name": "python3"
  },
  "language_info": {
   "codemirror_mode": {
    "name": "ipython",
    "version": 3
   },
   "file_extension": ".py",
   "mimetype": "text/x-python",
   "name": "python",
   "nbconvert_exporter": "python",
   "pygments_lexer": "ipython3",
   "version": "3.8.8"
  }
 },
 "nbformat": 4,
 "nbformat_minor": 5
}
