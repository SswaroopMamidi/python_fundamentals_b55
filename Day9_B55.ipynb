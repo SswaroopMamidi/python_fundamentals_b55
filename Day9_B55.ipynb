{
 "cells": [
  {
   "cell_type": "code",
   "execution_count": null,
   "id": "1c154101",
   "metadata": {},
   "outputs": [],
   "source": [
    "#Introduction to Tuple DataType\n",
    "Def: a tuple is immutable list is called as tuple\n",
    "classification: it is classified as immutable dataType\n",
    "how to define tuple -> ()"
   ]
  },
  {
   "cell_type": "code",
   "execution_count": 1,
   "id": "7c9d30f7",
   "metadata": {},
   "outputs": [],
   "source": [
    "students =('priyanka','keerthi','naveen','kumar')"
   ]
  },
  {
   "cell_type": "code",
   "execution_count": 2,
   "id": "b4727187",
   "metadata": {},
   "outputs": [
    {
     "name": "stdout",
     "output_type": "stream",
     "text": [
      "('priyanka', 'keerthi', 'naveen', 'kumar')\n"
     ]
    }
   ],
   "source": [
    "print (students)"
   ]
  },
  {
   "cell_type": "code",
   "execution_count": 3,
   "id": "c99b5404",
   "metadata": {},
   "outputs": [
    {
     "name": "stdout",
     "output_type": "stream",
     "text": [
      "keerthi\n"
     ]
    }
   ],
   "source": [
    "print (students[1])"
   ]
  },
  {
   "cell_type": "code",
   "execution_count": 5,
   "id": "e450eeca",
   "metadata": {},
   "outputs": [
    {
     "name": "stdout",
     "output_type": "stream",
     "text": [
      "<class 'tuple'>\n"
     ]
    }
   ],
   "source": [
    "print (type(students))\n",
    "       "
   ]
  },
  {
   "cell_type": "code",
   "execution_count": 8,
   "id": "f6bb9721",
   "metadata": {},
   "outputs": [
    {
     "data": {
      "text/plain": [
       "tuple"
      ]
     },
     "execution_count": 8,
     "metadata": {},
     "output_type": "execute_result"
    }
   ],
   "source": [
    "type (students)"
   ]
  },
  {
   "cell_type": "code",
   "execution_count": 9,
   "id": "72d49156",
   "metadata": {},
   "outputs": [
    {
     "name": "stdout",
     "output_type": "stream",
     "text": [
      "['hello', 'hi', 'howareyou']\n"
     ]
    }
   ],
   "source": [
    "seminar=['hello','hi','howareyou']\n",
    "print (seminar)"
   ]
  },
  {
   "cell_type": "code",
   "execution_count": 10,
   "id": "3c1fc5cb",
   "metadata": {},
   "outputs": [
    {
     "name": "stdout",
     "output_type": "stream",
     "text": [
      "<class 'list'>\n"
     ]
    }
   ],
   "source": [
    "print (type(seminar))"
   ]
  },
  {
   "cell_type": "code",
   "execution_count": 11,
   "id": "2da8f21d",
   "metadata": {},
   "outputs": [
    {
     "data": {
      "text/plain": [
       "list"
      ]
     },
     "execution_count": 11,
     "metadata": {},
     "output_type": "execute_result"
    }
   ],
   "source": [
    "type(seminar)"
   ]
  },
  {
   "cell_type": "code",
   "execution_count": 12,
   "id": "c33601f2",
   "metadata": {},
   "outputs": [
    {
     "ename": "TypeError",
     "evalue": "'tuple' object does not support item assignment",
     "output_type": "error",
     "traceback": [
      "\u001b[0;31m---------------------------------------------------------------------------\u001b[0m",
      "\u001b[0;31mTypeError\u001b[0m                                 Traceback (most recent call last)",
      "\u001b[0;32m<ipython-input-12-623d47a08204>\u001b[0m in \u001b[0;36m<module>\u001b[0;34m\u001b[0m\n\u001b[1;32m      1\u001b[0m \u001b[0;31m#Req: change the name of priyanka to hema\u001b[0m\u001b[0;34m\u001b[0m\u001b[0;34m\u001b[0m\u001b[0;34m\u001b[0m\u001b[0m\n\u001b[0;32m----> 2\u001b[0;31m \u001b[0mstudents\u001b[0m\u001b[0;34m[\u001b[0m\u001b[0;36m0\u001b[0m\u001b[0;34m]\u001b[0m\u001b[0;34m=\u001b[0m\u001b[0;34m'hema'\u001b[0m\u001b[0;34m\u001b[0m\u001b[0;34m\u001b[0m\u001b[0m\n\u001b[0m",
      "\u001b[0;31mTypeError\u001b[0m: 'tuple' object does not support item assignment"
     ]
    }
   ],
   "source": [
    "#Req: change the name of priyanka to hema\n",
    "students[0]='hema'"
   ]
  },
  {
   "cell_type": "code",
   "execution_count": 14,
   "id": "986acf67",
   "metadata": {},
   "outputs": [
    {
     "name": "stdout",
     "output_type": "stream",
     "text": [
      "('priyanka', 'keerthi', 'naveen', 'kumar')\n"
     ]
    }
   ],
   "source": [
    "print (students)"
   ]
  },
  {
   "cell_type": "code",
   "execution_count": 17,
   "id": "c35456b7",
   "metadata": {},
   "outputs": [
    {
     "name": "stdout",
     "output_type": "stream",
     "text": [
      "priyanka\n",
      "keerthi\n",
      "naveen\n",
      "kumar\n"
     ]
    }
   ],
   "source": [
    "#Req: print tuple elemets in new lines using for loop\n",
    "for x in students:\n",
    "    print (x)"
   ]
  },
  {
   "cell_type": "code",
   "execution_count": null,
   "id": "cdf230cd",
   "metadata": {},
   "outputs": [],
   "source": [
    "#Introduction to dictionary dataType\n",
    "defination: A dictionary is combination of key,value pairs\n",
    "classification: it is classified as mutable dataType\n",
    "how to define the dictionary -- ? {}"
   ]
  },
  {
   "cell_type": "code",
   "execution_count": 18,
   "id": "f22c7225",
   "metadata": {},
   "outputs": [
    {
     "name": "stdout",
     "output_type": "stream",
     "text": [
      "{'color': 'green', 'points': 5}\n"
     ]
    }
   ],
   "source": [
    "alien ={'color':'green','points':5}\n",
    "print (alien)"
   ]
  },
  {
   "cell_type": "code",
   "execution_count": 19,
   "id": "08fca332",
   "metadata": {},
   "outputs": [
    {
     "name": "stdout",
     "output_type": "stream",
     "text": [
      "green\n"
     ]
    }
   ],
   "source": [
    "#How to access the values from a dictionary\n",
    "print (alien['color'])"
   ]
  },
  {
   "cell_type": "code",
   "execution_count": 20,
   "id": "0bd7c0eb",
   "metadata": {},
   "outputs": [
    {
     "name": "stdout",
     "output_type": "stream",
     "text": [
      "5\n"
     ]
    }
   ],
   "source": [
    "# I want to know the points\n",
    "print (alien['points'])"
   ]
  },
  {
   "cell_type": "code",
   "execution_count": null,
   "id": "8e6e5d6c",
   "metadata": {},
   "outputs": [],
   "source": [
    "#Note: give the key and get the value is above details tells about \n",
    "\n",
    "Req: is it possible to give value and get the key? \n",
    "Answer is NO"
   ]
  },
  {
   "cell_type": "code",
   "execution_count": 21,
   "id": "a1effeb5",
   "metadata": {},
   "outputs": [
    {
     "ename": "KeyError",
     "evalue": "'green'",
     "output_type": "error",
     "traceback": [
      "\u001b[0;31m---------------------------------------------------------------------------\u001b[0m",
      "\u001b[0;31mKeyError\u001b[0m                                  Traceback (most recent call last)",
      "\u001b[0;32m<ipython-input-21-f88514005385>\u001b[0m in \u001b[0;36m<module>\u001b[0;34m\u001b[0m\n\u001b[0;32m----> 1\u001b[0;31m \u001b[0mprint\u001b[0m \u001b[0;34m(\u001b[0m\u001b[0malien\u001b[0m\u001b[0;34m[\u001b[0m\u001b[0;34m'green'\u001b[0m\u001b[0;34m]\u001b[0m\u001b[0;34m)\u001b[0m\u001b[0;34m\u001b[0m\u001b[0;34m\u001b[0m\u001b[0m\n\u001b[0m",
      "\u001b[0;31mKeyError\u001b[0m: 'green'"
     ]
    }
   ],
   "source": [
    "print (alien['green'])"
   ]
  },
  {
   "cell_type": "code",
   "execution_count": 37,
   "id": "f0f60405",
   "metadata": {},
   "outputs": [
    {
     "name": "stdout",
     "output_type": "stream",
     "text": [
      "{'color': 'yellow', 'points': 5, 'current_position': 2, 'start_position': 0}\n"
     ]
    }
   ],
   "source": [
    "#how to add new key value pair?\n",
    "alien ['start_position']=0\n",
    "print (alien)"
   ]
  },
  {
   "cell_type": "code",
   "execution_count": 24,
   "id": "ae7ee12e",
   "metadata": {},
   "outputs": [
    {
     "name": "stdout",
     "output_type": "stream",
     "text": [
      "{'color': 'green', 'points': 5, 'start_position': 0, 'current_position': 2}\n"
     ]
    }
   ],
   "source": [
    "alien ['current_position']=2\n",
    "print (alien)"
   ]
  },
  {
   "cell_type": "code",
   "execution_count": 36,
   "id": "4381116c",
   "metadata": {},
   "outputs": [
    {
     "name": "stdout",
     "output_type": "stream",
     "text": [
      "{'color': 'yellow', 'points': 5, 'current_position': 2}\n"
     ]
    }
   ],
   "source": [
    "#if i want to change the value of the key in dictionary\n",
    "alien['color']= 'yellow'\n",
    "print (alien)"
   ]
  },
  {
   "cell_type": "code",
   "execution_count": null,
   "id": "eed53923",
   "metadata": {},
   "outputs": [],
   "source": [
    "#if i want to delete the key value pairs\n",
    "I want to delete the start position from dictionary"
   ]
  },
  {
   "cell_type": "code",
   "execution_count": 41,
   "id": "4a84eb47",
   "metadata": {},
   "outputs": [
    {
     "name": "stdout",
     "output_type": "stream",
     "text": [
      "old dictionary content, {'color': 'yellow', 'points': 5, 'current_position': 2, 'start_position': 0}\n",
      "new dictionary content, {'color': 'yellow', 'points': 5, 'current_position': 2}\n"
     ]
    }
   ],
   "source": [
    "print (f\"old dictionary content, {alien}\")\n",
    "del alien['start_position']\n",
    "print (f\"new dictionary content, {alien}\")"
   ]
  },
  {
   "cell_type": "code",
   "execution_count": null,
   "id": "c41f4779",
   "metadata": {},
   "outputs": [],
   "source": []
  },
  {
   "cell_type": "code",
   "execution_count": null,
   "id": "5251d5c0",
   "metadata": {},
   "outputs": [],
   "source": []
  },
  {
   "cell_type": "code",
   "execution_count": null,
   "id": "2291acb9",
   "metadata": {},
   "outputs": [],
   "source": []
  }
 ],
 "metadata": {
  "kernelspec": {
   "display_name": "Python 3",
   "language": "python",
   "name": "python3"
  },
  "language_info": {
   "codemirror_mode": {
    "name": "ipython",
    "version": 3
   },
   "file_extension": ".py",
   "mimetype": "text/x-python",
   "name": "python",
   "nbconvert_exporter": "python",
   "pygments_lexer": "ipython3",
   "version": "3.8.8"
  }
 },
 "nbformat": 4,
 "nbformat_minor": 5
}
