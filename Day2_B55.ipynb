{
 "cells": [
  {
   "cell_type": "code",
   "execution_count": 2,
   "id": "d08746f2",
   "metadata": {},
   "outputs": [],
   "source": [
    "#python programming:"
   ]
  },
  {
   "cell_type": "code",
   "execution_count": 3,
   "id": "1fe63d9e",
   "metadata": {},
   "outputs": [],
   "source": [
    "#understanding variables in python\n",
    "rules for declaring variables in python"
   ]
  },
  {
   "cell_type": "code",
   "execution_count": 5,
   "id": "91154b08",
   "metadata": {},
   "outputs": [],
   "source": [
    "Rule1. no namespace while declaring the variable **"
   ]
  },
  {
   "cell_type": "code",
   "execution_count": 6,
   "id": "6c720771",
   "metadata": {},
   "outputs": [
    {
     "ename": "SyntaxError",
     "evalue": "invalid syntax (<ipython-input-6-f3a9ed329ce6>, line 1)",
     "output_type": "error",
     "traceback": [
      "\u001b[0;36m  File \u001b[0;32m\"<ipython-input-6-f3a9ed329ce6>\"\u001b[0;36m, line \u001b[0;32m1\u001b[0m\n\u001b[0;31m    first name = 'abcd'\u001b[0m\n\u001b[0m          ^\u001b[0m\n\u001b[0;31mSyntaxError\u001b[0m\u001b[0;31m:\u001b[0m invalid syntax\n"
     ]
    }
   ],
   "source": [
    "first name = 'abcd'\n",
    "print (first name)"
   ]
  },
  {
   "cell_type": "code",
   "execution_count": 7,
   "id": "c73b26d0",
   "metadata": {},
   "outputs": [
    {
     "name": "stdout",
     "output_type": "stream",
     "text": [
      "abcd\n"
     ]
    }
   ],
   "source": [
    "firstname = 'abcd'\n",
    "print (firstname)"
   ]
  },
  {
   "cell_type": "code",
   "execution_count": null,
   "id": "8b5949f7",
   "metadata": {},
   "outputs": [],
   "source": []
  },
  {
   "cell_type": "code",
   "execution_count": null,
   "id": "27e3ab6d",
   "metadata": {},
   "outputs": [],
   "source": [
    "Rule2. variable should not start with number**"
   ]
  },
  {
   "cell_type": "code",
   "execution_count": 8,
   "id": "349f71c2",
   "metadata": {},
   "outputs": [
    {
     "ename": "SyntaxError",
     "evalue": "invalid syntax (<ipython-input-8-fff1f1121682>, line 1)",
     "output_type": "error",
     "traceback": [
      "\u001b[0;36m  File \u001b[0;32m\"<ipython-input-8-fff1f1121682>\"\u001b[0;36m, line \u001b[0;32m1\u001b[0m\n\u001b[0;31m    1name ='hello'\u001b[0m\n\u001b[0m     ^\u001b[0m\n\u001b[0;31mSyntaxError\u001b[0m\u001b[0;31m:\u001b[0m invalid syntax\n"
     ]
    }
   ],
   "source": [
    "1name ='hello'\n",
    "print (1name)"
   ]
  },
  {
   "cell_type": "code",
   "execution_count": 9,
   "id": "3fa7adc5",
   "metadata": {},
   "outputs": [
    {
     "name": "stdout",
     "output_type": "stream",
     "text": [
      "hello\n"
     ]
    }
   ],
   "source": [
    "name1='hello'\n",
    "print(name1)"
   ]
  },
  {
   "cell_type": "code",
   "execution_count": null,
   "id": "d4d4be7e",
   "metadata": {},
   "outputs": [],
   "source": []
  },
  {
   "cell_type": "code",
   "execution_count": 11,
   "id": "1a224d6b",
   "metadata": {},
   "outputs": [],
   "source": [
    "Rule3. variable name not contain any special characters in it"
   ]
  },
  {
   "cell_type": "code",
   "execution_count": 12,
   "id": "9bebe97b",
   "metadata": {},
   "outputs": [
    {
     "ename": "SyntaxError",
     "evalue": "invalid syntax (<ipython-input-12-7d41ef15cdcb>, line 2)",
     "output_type": "error",
     "traceback": [
      "\u001b[0;36m  File \u001b[0;32m\"<ipython-input-12-7d41ef15cdcb>\"\u001b[0;36m, line \u001b[0;32m2\u001b[0m\n\u001b[0;31m    print (name@)\u001b[0m\n\u001b[0m                ^\u001b[0m\n\u001b[0;31mSyntaxError\u001b[0m\u001b[0;31m:\u001b[0m invalid syntax\n"
     ]
    }
   ],
   "source": [
    "name@='hi python'\n",
    "print (name@)"
   ]
  },
  {
   "cell_type": "code",
   "execution_count": 13,
   "id": "c1fad8a9",
   "metadata": {},
   "outputs": [
    {
     "ename": "SyntaxError",
     "evalue": "invalid syntax (<ipython-input-13-489b6e7f73dc>, line 1)",
     "output_type": "error",
     "traceback": [
      "\u001b[0;36m  File \u001b[0;32m\"<ipython-input-13-489b6e7f73dc>\"\u001b[0;36m, line \u001b[0;32m1\u001b[0m\n\u001b[0;31m    name$='apple'\u001b[0m\n\u001b[0m        ^\u001b[0m\n\u001b[0;31mSyntaxError\u001b[0m\u001b[0;31m:\u001b[0m invalid syntax\n"
     ]
    }
   ],
   "source": [
    "name$='apple'\n",
    "print (name$)"
   ]
  },
  {
   "cell_type": "code",
   "execution_count": null,
   "id": "8cc2a8eb",
   "metadata": {},
   "outputs": [],
   "source": [
    "introduction to data types in python:\n",
    "1. string\n",
    "2. numbers ---> integers and floats ( decimals)\n",
    "3. list\n",
    "4. tuple\n",
    "5. dictionary \n",
    "\n",
    "\n",
    "clasification of dataTypes:\n",
    "    1. mutalble data Types --> it is flexible data type -- which we can edit and alter\n",
    "    2. immutable data Types --> fixed data Type  -- which can't edit or alter \n",
    "    "
   ]
  },
  {
   "cell_type": "code",
   "execution_count": null,
   "id": "f325bdb5",
   "metadata": {},
   "outputs": [],
   "source": [
    "Introduction to STRING datatype:"
   ]
  },
  {
   "cell_type": "code",
   "execution_count": null,
   "id": "2ee25924",
   "metadata": {},
   "outputs": [],
   "source": [
    "def: string is a series of characters declared in quotes\n",
    "    classification: classified as immutable dataType\n",
    "    how to declare string: \n",
    "        3 possibilities \n",
    "            1. single quote\n",
    "            2. double quotes\n",
    "            3. tripple quotes\n",
    "            "
   ]
  },
  {
   "cell_type": "code",
   "execution_count": 14,
   "id": "0d964d32",
   "metadata": {},
   "outputs": [
    {
     "name": "stdout",
     "output_type": "stream",
     "text": [
      "whose name\n"
     ]
    }
   ],
   "source": [
    "name ='whose name' #checking single quote\n",
    "print(name)"
   ]
  },
  {
   "cell_type": "code",
   "execution_count": 15,
   "id": "3a72931f",
   "metadata": {},
   "outputs": [
    {
     "name": "stdout",
     "output_type": "stream",
     "text": [
      "don name\n"
     ]
    }
   ],
   "source": [
    "name2=\"don name\" #checking double quotes\n",
    "print(name2)"
   ]
  },
  {
   "cell_type": "code",
   "execution_count": 16,
   "id": "084e7b19",
   "metadata": {},
   "outputs": [
    {
     "name": "stdout",
     "output_type": "stream",
     "text": [
      "tripple quote name\n"
     ]
    }
   ],
   "source": [
    "name3='''tripple quote name''' #checking tripple quotes\n",
    "print(name3)"
   ]
  },
  {
   "cell_type": "code",
   "execution_count": null,
   "id": "a6fbf973",
   "metadata": {},
   "outputs": [],
   "source": []
  }
 ],
 "metadata": {
  "kernelspec": {
   "display_name": "Python 3",
   "language": "python",
   "name": "python3"
  },
  "language_info": {
   "codemirror_mode": {
    "name": "ipython",
    "version": 3
   },
   "file_extension": ".py",
   "mimetype": "text/x-python",
   "name": "python",
   "nbconvert_exporter": "python",
   "pygments_lexer": "ipython3",
   "version": "3.8.8"
  }
 },
 "nbformat": 4,
 "nbformat_minor": 5
}
