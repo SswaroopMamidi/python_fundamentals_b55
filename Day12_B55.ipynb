{
 "cells": [
  {
   "cell_type": "code",
   "execution_count": null,
   "id": "d63fab3b",
   "metadata": {},
   "outputs": [],
   "source": [
    "#Introduction to python functions:\n",
    "#I want to create greet function:\n",
    "# To create a function we need to use def"
   ]
  },
  {
   "cell_type": "code",
   "execution_count": 1,
   "id": "d0cc99bd",
   "metadata": {},
   "outputs": [],
   "source": [
    "def greet (): # defining or declaring the function\n",
    "    \"\"\"creating greet function\"\"\" # commenting inside the function\n",
    "    print ('hello')"
   ]
  },
  {
   "cell_type": "code",
   "execution_count": 2,
   "id": "ef18815f",
   "metadata": {},
   "outputs": [
    {
     "name": "stdout",
     "output_type": "stream",
     "text": [
      "hello\n"
     ]
    }
   ],
   "source": [
    "greet ()"
   ]
  },
  {
   "cell_type": "code",
   "execution_count": 5,
   "id": "298431fb",
   "metadata": {},
   "outputs": [],
   "source": [
    "# To enhancement of code:\n",
    "def greet (username):\n",
    "    \"\"\"creating a greet function for greeting the user\"\"\"\n",
    "    print (f\"hello , {username.title()}\")"
   ]
  },
  {
   "cell_type": "code",
   "execution_count": 6,
   "id": "5397547a",
   "metadata": {},
   "outputs": [
    {
     "name": "stdout",
     "output_type": "stream",
     "text": [
      "hello , Priyanka\n"
     ]
    }
   ],
   "source": [
    "greet ('priyanka') #arguments passing"
   ]
  },
  {
   "cell_type": "code",
   "execution_count": null,
   "id": "db3217cf",
   "metadata": {},
   "outputs": [],
   "source": []
  },
  {
   "cell_type": "code",
   "execution_count": null,
   "id": "473a94f4",
   "metadata": {},
   "outputs": [],
   "source": [
    "#Types of arguments:\n",
    "1. positional arguments\n",
    "2. keyword arguments\n",
    "3. default arguments\n"
   ]
  },
  {
   "cell_type": "code",
   "execution_count": null,
   "id": "8fd734bc",
   "metadata": {},
   "outputs": [],
   "source": [
    "# Req: Positional arguments\n",
    "#  i  want to describe pet as function it needs to accept lets say two parameters\n",
    "1. animal type \n",
    "2. pet name"
   ]
  },
  {
   "cell_type": "code",
   "execution_count": 14,
   "id": "1d793c66",
   "metadata": {},
   "outputs": [],
   "source": [
    "def describe_pet(animal_type,pet_name):\n",
    "    \"\"\"creating a function for capturing the details of the pet\"\"\"\n",
    "    print (f\"i have a {animal_type}\")\n",
    "    print (f\"my {animal_type}'s name is {pet_name}\")"
   ]
  },
  {
   "cell_type": "code",
   "execution_count": 15,
   "id": "8ead6c36",
   "metadata": {},
   "outputs": [
    {
     "name": "stdout",
     "output_type": "stream",
     "text": [
      "i have a rabbit\n",
      "my rabbit's name is leo\n"
     ]
    }
   ],
   "source": [
    "describe_pet ('rabbit','leo')"
   ]
  },
  {
   "cell_type": "code",
   "execution_count": null,
   "id": "a124b486",
   "metadata": {},
   "outputs": [],
   "source": []
  },
  {
   "cell_type": "code",
   "execution_count": 16,
   "id": "01ddd30e",
   "metadata": {},
   "outputs": [
    {
     "name": "stdout",
     "output_type": "stream",
     "text": [
      "i have a dog\n",
      "my dog's name is brow\n"
     ]
    }
   ],
   "source": [
    "describe_pet (pet_name='brow',animal_type='dog') # => this is keywork arguments "
   ]
  },
  {
   "cell_type": "code",
   "execution_count": null,
   "id": "b5dc3985",
   "metadata": {},
   "outputs": [],
   "source": []
  },
  {
   "cell_type": "code",
   "execution_count": null,
   "id": "4ca7b2a2",
   "metadata": {},
   "outputs": [],
   "source": []
  }
 ],
 "metadata": {
  "kernelspec": {
   "display_name": "Python 3",
   "language": "python",
   "name": "python3"
  },
  "language_info": {
   "codemirror_mode": {
    "name": "ipython",
    "version": 3
   },
   "file_extension": ".py",
   "mimetype": "text/x-python",
   "name": "python",
   "nbconvert_exporter": "python",
   "pygments_lexer": "ipython3",
   "version": "3.8.8"
  }
 },
 "nbformat": 4,
 "nbformat_minor": 5
}
